{
 "cells": [
  {
   "cell_type": "code",
   "execution_count": 2,
   "metadata": {},
   "outputs": [],
   "source": [
    "import numpy as np\n",
    "import pandas as pd\n"
   ]
  },
  {
   "cell_type": "code",
   "execution_count": 5,
   "metadata": {},
   "outputs": [],
   "source": [
    "# Load the data\n",
    "df = pd.read_csv('../data/synthetic_microgrid_data.csv', parse_dates=['Timestamp'])"
   ]
  },
  {
   "cell_type": "code",
   "execution_count": 6,
   "metadata": {},
   "outputs": [],
   "source": [
    "# Reinforcement Learning Setup\n",
    "states = []\n",
    "actions = ['charge', 'discharge', 'idle']\n",
    "Q_table = {}\n"
   ]
  },
  {
   "cell_type": "code",
   "execution_count": 7,
   "metadata": {},
   "outputs": [],
   "source": [
    "# Define state discretization\n",
    "def get_state(solar, load, soc):\n",
    "    return (int(solar // 0.5), int(load // 0.5), int(soc // 10))"
   ]
  },
  {
   "cell_type": "code",
   "execution_count": 8,
   "metadata": {},
   "outputs": [
    {
     "name": "stdout",
     "output_type": "stream",
     "text": [
      "Training complete.\n",
      "Sample Q-values:\n",
      "State (0, 1, 0): [ 5.45799464e-04  5.51607697e-04 -8.49344996e-01]\n",
      "State (0, 5, 0): [6.11879817 7.72235338 5.26499814]\n",
      "State (2, 4, 0): [ 4.57883001e-16  4.51192745e-16 -1.17356104e+00]\n",
      "State (3, 5, 0): [ 1.59794255e-17  1.57754380e-17 -1.01479411e+00]\n",
      "State (5, 4, 0): [2.46534543 2.00931684 1.99410891]\n"
     ]
    }
   ],
   "source": [
    "# Training parameters\n",
    "episodes = 1000\n",
    "alpha = 0.1\n",
    "gamma = 0.8\n",
    "epsilon = 0.1\n",
    "battery_capacity_kwh = 10\n",
    "battery_efficiency = 0.95\n",
    "\n",
    "\n",
    "for episode in range(episodes):\n",
    "    battery_soc = 0.5 * battery_capacity_kwh\n",
    "    for idx, row in df.iterrows():\n",
    "        state = get_state(row['Solar_Power_Generated (kW)'], row['Load_Demand (kW)'], battery_soc * 10 / battery_capacity_kwh)\n",
    "        if state not in Q_table:\n",
    "            Q_table[state] = np.zeros(len(actions))\n",
    "\n",
    "        if np.random.rand() < epsilon:\n",
    "            action_idx = np.random.choice(len(actions))\n",
    "        else:\n",
    "            action_idx = np.argmax(Q_table[state])\n",
    "\n",
    "        action = actions[action_idx]\n",
    "\n",
    "        reward = 0\n",
    "        if action == 'charge' and row['Solar_Power_Generated (kW)'] > row['Load_Demand (kW)']:\n",
    "            charge_possible = min(row['Solar_Power_Generated (kW)'] - row['Load_Demand (kW)'], (battery_capacity_kwh - battery_soc))\n",
    "            battery_soc += charge_possible * battery_efficiency\n",
    "            reward = charge_possible\n",
    "        elif action == 'discharge' and row['Load_Demand (kW)'] > row['Solar_Power_Generated (kW)']:\n",
    "            discharge_possible = min(row['Load_Demand (kW)'] - row['Solar_Power_Generated (kW)'], battery_soc)\n",
    "            battery_soc -= discharge_possible / battery_efficiency\n",
    "            reward = discharge_possible\n",
    "        elif action == 'idle':\n",
    "            reward = -row['Grid_Usage (kW)']\n",
    "\n",
    "        battery_soc = max(0, min(battery_soc, battery_capacity_kwh))\n",
    "\n",
    "        next_state = get_state(row['Solar_Power_Generated (kW)'], row['Load_Demand (kW)'], battery_soc * 10 / battery_capacity_kwh)\n",
    "        if next_state not in Q_table:\n",
    "            Q_table[next_state] = np.zeros(len(actions))\n",
    "\n",
    "        Q_table[state][action_idx] = Q_table[state][action_idx] + alpha * (reward + gamma * np.max(Q_table[next_state]) - Q_table[state][action_idx])\n",
    "\n",
    "print(\"Training complete.\")\n",
    "print(\"Sample Q-values:\")\n",
    "for key in list(Q_table.keys())[:5]:\n",
    "    print(f\"State {key}: {Q_table[key]}\")"
   ]
  },
  {
   "cell_type": "code",
   "execution_count": null,
   "metadata": {},
   "outputs": [],
   "source": [
    "class MicrogridSimulator:\n",
    "    def __init__(self):\n",
    "        self.battery_soc = 5.0  # Start at 50%\n",
    "        self.grid_usage = []\n",
    "    \n",
    "    def step(self, action, solar, load):\n",
    "        if action == \"charge\":\n",
    "            charge_amount = min(solar - load, 10 - self.battery_soc)\n",
    "            self.battery_soc += charge_amount * 0.95  # 95% efficiency\n",
    "        \n",
    "        elif action == \"discharge\":\n",
    "            discharge_amount = min(load - solar, self.battery_soc)\n",
    "            self.battery_soc -= discharge_amount / 0.95\n",
    "        \n",
    "        grid_used = max(0, load - solar - (self.battery_soc if action==\"discharge\" else 0))\n",
    "        self.grid_usage.append(grid_used)\n",
    "        return self.battery_soc"
   ]
  }
 ],
 "metadata": {
  "kernelspec": {
   "display_name": "base",
   "language": "python",
   "name": "python3"
  },
  "language_info": {
   "codemirror_mode": {
    "name": "ipython",
    "version": 3
   },
   "file_extension": ".py",
   "mimetype": "text/x-python",
   "name": "python",
   "nbconvert_exporter": "python",
   "pygments_lexer": "ipython3",
   "version": "3.9.13"
  }
 },
 "nbformat": 4,
 "nbformat_minor": 2
}
